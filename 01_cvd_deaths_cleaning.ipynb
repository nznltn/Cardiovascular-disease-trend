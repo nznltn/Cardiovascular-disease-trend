{
 "cells": [
  {
   "cell_type": "code",
   "execution_count": 1,
   "id": "b0007ba8-e4df-4fcf-a33c-bf12cc8f5312",
   "metadata": {},
   "outputs": [],
   "source": [
    "import pandas as pd\n",
    "import os"
   ]
  },
  {
   "cell_type": "markdown",
   "id": "3c9b7a01-46b2-4e72-b266-1c3c4292cb66",
   "metadata": {},
   "source": [
    "**In this script, it was aimed to obtain (load and clean) the Table 1 data (Causes of death – diseases of the circulatory system, residents, 2022) in a way to make it possible to process afterwards. The below steps have been followed here:**\n",
    "* Step 1: Load the Excel file and inspect sheet names\n",
    "* Step 2: Load 'Table 1' with multi-level headers\n",
    "* Step 3: Flatten the header (remove 'Unnamed' parts)\n",
    "* Step 4: Drop empty first two columns\n",
    "* Step 5: Rename columns clearly\n",
    "* Step 6: Clean up and filter country rows\n",
    "* Step 7: Convert numeric columns\n",
    "* Step 8: Remove footnotes and fix footnote marker like \" (¹)\" at the country names (e.g. \"Türkiye (¹)\" -> \"Türkiye\").\n",
    "* Step 9: Save cleaned file "
   ]
  },
  {
   "cell_type": "markdown",
   "id": "de866fb7-6e09-4387-bc7f-2ddd1885f769",
   "metadata": {},
   "source": [
    "**Notes on Table 1:** CVD stands for cardiovascular disease, STD stands for standardised death rate. Please refer to data description in the readme file for details. \n",
    "\n"
   ]
  },
  {
   "cell_type": "code",
   "execution_count": 2,
   "id": "b2f0da1f-aa92-4ee3-9b03-557c1cc77590",
   "metadata": {
    "scrolled": true
   },
   "outputs": [
    {
     "name": "stdout",
     "output_type": "stream",
     "text": [
      "Sheet names: ['BulkList', 'Table 1', 'Table 2', 'Table 3']\n",
      "Flattened columns: ['s', 's', 's_Health in the European Union – facts and figures', 's_Health in the European Union – facts and figures', 's_Health in the European Union – facts and figures', 's_Health in the European Union – facts and figures', 's_Health in the European Union – facts and figures', 's_Health in the European Union – facts and figures', 's_Health in the European Union – facts and figures', 's_Health in the European Union – facts and figures', 's_Health in the European Union – facts and figures', 's_Health in the European Union – facts and figures']\n",
      "Columns after dropping first two: ['s_Health in the European Union – facts and figures', 's_Health in the European Union – facts and figures', 's_Health in the European Union – facts and figures', 's_Health in the European Union – facts and figures', 's_Health in the European Union – facts and figures', 's_Health in the European Union – facts and figures', 's_Health in the European Union – facts and figures', 's_Health in the European Union – facts and figures', 's_Health in the European Union – facts and figures', 's_Health in the European Union – facts and figures']\n",
      "Cleaned dataset saved to: data/processed/deaths_clean.csv\n",
      "<class 'pandas.core.frame.DataFrame'>\n",
      "Index: 34 entries, 2 to 35\n",
      "Data columns (total 10 columns):\n",
      " #   Column                     Non-Null Count  Dtype  \n",
      "---  ------                     --------------  -----  \n",
      " 0   Country                    34 non-null     object \n",
      " 1   Number_of_deaths           34 non-null     int64  \n",
      " 2   Share_of_all_deaths_total  34 non-null     float64\n",
      " 3   Share_male                 34 non-null     float64\n",
      " 4   Share_female               34 non-null     float64\n",
      " 5   SDR_total                  34 non-null     float64\n",
      " 6   SDR_male                   34 non-null     float64\n",
      " 7   SDR_female                 34 non-null     float64\n",
      " 8   SDR_under_65               34 non-null     float64\n",
      " 9   SDR_65plus                 34 non-null     float64\n",
      "dtypes: float64(8), int64(1), object(1)\n",
      "memory usage: 2.9+ KB\n",
      "None\n",
      "    Country  Number_of_deaths  Share_of_all_deaths_total  Share_male  \\\n",
      "2        EU           1684886                  32.677876   30.345710   \n",
      "3   Belgium             27662                  23.934242   22.698320   \n",
      "4  Bulgaria             71055                  60.957929   56.967464   \n",
      "5   Czechia             46361                  38.673807   35.632259   \n",
      "6   Denmark             12192                  20.531820   21.564161   \n",
      "\n",
      "   Share_female  SDR_total  SDR_male  SDR_female  SDR_under_65  SDR_65plus  \n",
      "2     35.001593     336.42    404.37      282.89         39.93     1560.37  \n",
      "3     25.110623     221.55    266.35      187.16         23.13     1040.69  \n",
      "4     65.267196    1074.26   1338.46      889.86        166.16     4823.10  \n",
      "5     41.847937     505.50    611.72      427.64         52.10     2377.25  \n",
      "6     19.457823     210.79    268.38      165.95         23.07      985.72  \n"
     ]
    }
   ],
   "source": [
    "xlsx = pd.ExcelFile(\"Cardiovascular_diseases_Health2025.xlsx\")\n",
    "print(\"Sheet names:\", xlsx.sheet_names)\n",
    "\n",
    "df_raw = pd.read_excel(xlsx, sheet_name=\"Table 1\", header=[0, 1, 2])\n",
    "\n",
    "def flatten_col(col_tuple):\n",
    "    parts = [str(x) for x in col_tuple if ('Unnamed' not in str(x)) and (str(x) != 'nan')]\n",
    "    return \"_\".join(parts).strip()\n",
    "\n",
    "df_raw.columns = [flatten_col(col) for col in df_raw.columns]\n",
    "print(\"Flattened columns:\", df_raw.columns.tolist())\n",
    "\n",
    "df_raw = df_raw.drop(df_raw.columns[:2], axis=1)\n",
    "print(\"Columns after dropping first two:\", df_raw.columns.tolist())\n",
    "\n",
    "df_raw.columns = [\n",
    "    \"Country\",\n",
    "    \"Number_of_deaths\",\n",
    "    \"Share_of_all_deaths_total\",\n",
    "    \"Share_male\",\n",
    "    \"Share_female\",\n",
    "    \"SDR_total\",\n",
    "    \"SDR_male\",\n",
    "    \"SDR_female\",\n",
    "    \"SDR_under_65\",\n",
    "    \"SDR_65plus\"\n",
    "]\n",
    "\n",
    "df_raw = df_raw.dropna(subset=[\"Country\"]).reset_index(drop=True)\n",
    "df_raw[\"Country\"] = df_raw[\"Country\"].str.strip()\n",
    "\n",
    "df_raw = df_raw[\n",
    "    ~df_raw[\"Country\"].str.contains(\n",
    "        \"Cardiovascular diseases|Table 1|Source|For text|Definition|Bookmark\",\n",
    "        case=False,\n",
    "        na=False\n",
    "    )\n",
    "]\n",
    "\n",
    "cols_to_convert = df_raw.columns.drop(\"Country\")\n",
    "for col in cols_to_convert:\n",
    "    df_raw[col] = pd.to_numeric(df_raw[col], errors=\"coerce\")\n",
    "\n",
    "df_raw[\"Country\"] = df_raw[\"Country\"].str.replace(r\"\\s*\\(.*\\)\", \"\", regex=True).str.strip()\n",
    "\n",
    "output_dir = \"data/processed\"\n",
    "os.makedirs(output_dir, exist_ok=True)\n",
    "\n",
    "output_path = os.path.join(output_dir, \"deaths_clean.csv\")\n",
    "df_raw.to_csv(output_path, index=False)\n",
    "print(f\"Cleaned dataset saved to: {output_path}\")\n",
    "\n",
    "print(df_raw.info())\n",
    "print(df_raw.head())"
   ]
  }
 ],
 "metadata": {
  "kernelspec": {
   "display_name": "Python [conda env:base] *",
   "language": "python",
   "name": "conda-base-py"
  },
  "language_info": {
   "codemirror_mode": {
    "name": "ipython",
    "version": 3
   },
   "file_extension": ".py",
   "mimetype": "text/x-python",
   "name": "python",
   "nbconvert_exporter": "python",
   "pygments_lexer": "ipython3",
   "version": "3.13.5"
  }
 },
 "nbformat": 4,
 "nbformat_minor": 5
}
